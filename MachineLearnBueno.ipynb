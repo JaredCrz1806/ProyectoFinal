{
 "cells": [
  {
   "cell_type": "code",
   "execution_count": 2,
   "metadata": {},
   "outputs": [
    {
     "name": "stdout",
     "output_type": "stream",
     "text": [
      "Distribución después de SMOTE: Counter({1: 5291, 0: 5291})\n"
     ]
    }
   ],
   "source": [
    "import pandas as pd\n",
    "from sklearn.model_selection import train_test_split\n",
    "from sklearn.linear_model import LogisticRegression\n",
    "from sklearn.ensemble import RandomForestClassifier\n",
    "from sklearn.metrics import accuracy_score, classification_report, confusion_matrix\n",
    "from imblearn.over_sampling import SMOTE\n",
    "from sklearn.preprocessing import StandardScaler\n",
    "from collections import Counter\n",
    "\n",
    "# Cargar los datos\n",
    "archivo_csv = \"df_limpio.csv\"\n",
    "df = pd.read_csv(archivo_csv)\n",
    "\n",
    "# Seleccionar las columnas relevantes\n",
    "columnas_seleccionadas = ['Horas_Estudio', 'Asistencia', 'Horas_Sueño', \n",
    "                          'Puntajes_Anteriores', 'Sesiones_Tutorias', 'Actividad_Fisica']\n",
    "X = df[columnas_seleccionadas]\n",
    "y = df['Puntaje_Examen']\n",
    "\n",
    "# Discretizar 'y' en Aprobado/Reprobado\n",
    "y = y.apply(lambda x: 1 if x >= 60 else 0)\n",
    "\n",
    "# Manejar valores faltantes\n",
    "X = X.apply(pd.to_numeric, errors='coerce')\n",
    "X = X.fillna(X.mean())  # Imputar valores faltantes con la media\n",
    "\n",
    "# Dividir en entrenamiento y prueba\n",
    "X_train, X_test, y_train, y_test = train_test_split(X, y, test_size=0.2, random_state=42)\n",
    "\n",
    "# Balancear las clases con SMOTE\n",
    "smote = SMOTE(random_state=42)\n",
    "X_train_smote, y_train_smote = smote.fit_resample(X_train, y_train)\n",
    "\n",
    "# Verificar el balance de clases después de SMOTE\n",
    "print(\"Distribución después de SMOTE:\", Counter(y_train_smote))\n"
   ]
  },
  {
   "cell_type": "code",
   "execution_count": 3,
   "metadata": {},
   "outputs": [
    {
     "name": "stdout",
     "output_type": "stream",
     "text": [
      "Resultados con Regresión Logística:\n",
      "Precisión: 0.6024096385542169\n",
      "Reporte de clasificación:\n",
      "              precision    recall  f1-score   support\n",
      "\n",
      "           0       0.06      0.46      0.11        79\n",
      "           1       0.95      0.61      0.74      1332\n",
      "\n",
      "    accuracy                           0.60      1411\n",
      "   macro avg       0.51      0.53      0.43      1411\n",
      "weighted avg       0.90      0.60      0.71      1411\n",
      "\n",
      "Matriz de Confusión:\n",
      "[[ 36  43]\n",
      " [518 814]]\n"
     ]
    }
   ],
   "source": [
    "# Escalar las características\n",
    "scaler = StandardScaler()\n",
    "X_train_scaled = scaler.fit_transform(X_train_smote)\n",
    "X_test_scaled = scaler.transform(X_test)\n",
    "\n",
    "# Entrenar el modelo de Regresión Logística\n",
    "modelo_lr = LogisticRegression(max_iter=1000, class_weight='balanced')\n",
    "modelo_lr.fit(X_train_scaled, y_train_smote)\n",
    "\n",
    "# Hacer predicciones\n",
    "y_pred_lr = modelo_lr.predict(X_test_scaled)\n",
    "\n",
    "# Evaluar el modelo\n",
    "print(\"Resultados con Regresión Logística:\")\n",
    "print(f'Precisión: {accuracy_score(y_test, y_pred_lr)}')\n",
    "print(\"Reporte de clasificación:\")\n",
    "print(classification_report(y_test, y_pred_lr))\n",
    "print(\"Matriz de Confusión:\")\n",
    "print(confusion_matrix(y_test, y_pred_lr))\n"
   ]
  },
  {
   "cell_type": "code",
   "execution_count": 4,
   "metadata": {},
   "outputs": [
    {
     "name": "stdout",
     "output_type": "stream",
     "text": [
      "\n",
      "Resultados con Random Forest:\n",
      "Precisión: 0.9390503189227498\n",
      "Reporte de clasificación:\n",
      "              precision    recall  f1-score   support\n",
      "\n",
      "           0       0.27      0.05      0.09        79\n",
      "           1       0.95      0.99      0.97      1332\n",
      "\n",
      "    accuracy                           0.94      1411\n",
      "   macro avg       0.61      0.52      0.53      1411\n",
      "weighted avg       0.91      0.94      0.92      1411\n",
      "\n",
      "Matriz de Confusión:\n",
      "[[   4   75]\n",
      " [  11 1321]]\n"
     ]
    }
   ],
   "source": [
    "# Entrenar el modelo de Random Forest\n",
    "modelo_rf = RandomForestClassifier(random_state=42, class_weight='balanced')\n",
    "modelo_rf.fit(X_train_smote, y_train_smote)\n",
    "\n",
    "# Hacer predicciones\n",
    "y_pred_rf = modelo_rf.predict(X_test)\n",
    "\n",
    "# Evaluar el modelo\n",
    "print(\"\\nResultados con Random Forest:\")\n",
    "print(f'Precisión: {accuracy_score(y_test, y_pred_rf)}')\n",
    "print(\"Reporte de clasificación:\")\n",
    "print(classification_report(y_test, y_pred_rf))\n",
    "print(\"Matriz de Confusión:\")\n",
    "print(confusion_matrix(y_test, y_pred_rf))\n"
   ]
  },
  {
   "cell_type": "code",
   "execution_count": 5,
   "metadata": {},
   "outputs": [
    {
     "name": "stdout",
     "output_type": "stream",
     "text": [
      "Fitting 3 folds for each of 81 candidates, totalling 243 fits\n",
      "\n",
      "Mejores parámetros: {'max_depth': None, 'min_samples_leaf': 1, 'min_samples_split': 2, 'n_estimators': 300}\n",
      "\n",
      "Resultados con el Modelo Optimizado:\n",
      "Precisión: 0.9383416017009213\n",
      "Reporte de clasificación:\n",
      "              precision    recall  f1-score   support\n",
      "\n",
      "           0       0.21      0.04      0.06        79\n",
      "           1       0.95      0.99      0.97      1332\n",
      "\n",
      "    accuracy                           0.94      1411\n",
      "   macro avg       0.58      0.51      0.52      1411\n",
      "weighted avg       0.90      0.94      0.92      1411\n",
      "\n",
      "Matriz de Confusión:\n",
      "[[   3   76]\n",
      " [  11 1321]]\n"
     ]
    }
   ],
   "source": [
    "from sklearn.model_selection import GridSearchCV\n",
    "\n",
    "# Definir el grid de hiperparámetros\n",
    "param_grid = {\n",
    "    'n_estimators': [100, 200, 300],\n",
    "    'max_depth': [None, 10, 20],\n",
    "    'min_samples_split': [2, 5, 10],\n",
    "    'min_samples_leaf': [1, 2, 4],\n",
    "}\n",
    "\n",
    "# Configurar GridSearchCV\n",
    "grid_search = GridSearchCV(RandomForestClassifier(random_state=42, class_weight='balanced'),\n",
    "                           param_grid, cv=3, scoring='accuracy', n_jobs=-1, verbose=2)\n",
    "\n",
    "# Entrenar el modelo con GridSearch\n",
    "grid_search.fit(X_train_smote, y_train_smote)\n",
    "\n",
    "# Imprimir los mejores parámetros y evaluar\n",
    "print(\"\\nMejores parámetros:\", grid_search.best_params_)\n",
    "mejor_modelo = grid_search.best_estimator_\n",
    "\n",
    "# Evaluar el modelo optimizado\n",
    "y_pred_optimizado = mejor_modelo.predict(X_test)\n",
    "print(\"\\nResultados con el Modelo Optimizado:\")\n",
    "print(f'Precisión: {accuracy_score(y_test, y_pred_optimizado)}')\n",
    "print(\"Reporte de clasificación:\")\n",
    "print(classification_report(y_test, y_pred_optimizado))\n",
    "print(\"Matriz de Confusión:\")\n",
    "print(confusion_matrix(y_test, y_pred_optimizado))\n"
   ]
  }
 ],
 "metadata": {
  "kernelspec": {
   "display_name": "Python 3",
   "language": "python",
   "name": "python3"
  },
  "language_info": {
   "codemirror_mode": {
    "name": "ipython",
    "version": 3
   },
   "file_extension": ".py",
   "mimetype": "text/x-python",
   "name": "python",
   "nbconvert_exporter": "python",
   "pygments_lexer": "ipython3",
   "version": "3.12.5"
  }
 },
 "nbformat": 4,
 "nbformat_minor": 2
}
